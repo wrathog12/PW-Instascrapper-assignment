{
 "cells": [
  {
   "cell_type": "markdown",
   "id": "7faf4df0",
   "metadata": {},
   "source": [
    "**Abhishek Choudhary**\n",
    "\n",
    "Imports:\n",
    "\n",
    "instaloader: This is the library used to scrape data from Instagram profiles.\n",
    "\n",
    "pandas: Used for handling and manipulating CSV data.\n",
    "\n",
    "time: Used to add a delay between requests to avoid rate-limiting issues.\n",
    "\n",
    "re: A regular expression module used to identify and remove URLs and email addresses.\n",
    "\n",
    "logging: Used for logging errors encountered during scraping.\n",
    "\n",
    "datetime: Used to append a timestamp to the output CSV filename."
   ]
  },
  {
   "cell_type": "code",
   "execution_count": 1,
   "id": "c824c7dd",
   "metadata": {},
   "outputs": [],
   "source": [
    "import instaloader\n",
    "import pandas as pd\n",
    "import time\n",
    "import re\n",
    "import logging\n",
    "import datetime"
   ]
  },
  {
   "cell_type": "markdown",
   "id": "b461b266",
   "metadata": {},
   "source": [
    "Instaloader Initialization:\n",
    "\n",
    "We create an instance of the Instaloader class, which is responsible for downloading Instagram profile data.\n",
    "\n"
   ]
  },
  {
   "cell_type": "code",
   "execution_count": 2,
   "id": "817cb3ce",
   "metadata": {},
   "outputs": [],
   "source": [
    "L = instaloader.Instaloader()"
   ]
  },
  {
   "cell_type": "markdown",
   "id": "0a9cd6c1",
   "metadata": {},
   "source": [
    "Logging Setup:\n",
    "\n",
    "We configure logging to write error messages to the scraper_errors.log file. This will help track any issues encountered during scraping, such as private profiles or invalid data.\n",
    "\n",
    "Loading Usernames from CSV:\n",
    "\n",
    "We load the CSV file containing Instagram usernames using pandas.read_csv().\n",
    "\n",
    "We then extract the usernames from the \"user profile\" column and convert them into a list for processing.\n",
    "\n"
   ]
  },
  {
   "cell_type": "code",
   "execution_count": 3,
   "id": "ca7e6d5f",
   "metadata": {},
   "outputs": [],
   "source": [
    "logging.basicConfig(filename='scraper_errors.log', level=logging.ERROR)"
   ]
  },
  {
   "cell_type": "code",
   "execution_count": null,
   "id": "6df24b6f",
   "metadata": {},
   "outputs": [],
   "source": [
    "df_input = pd.read_csv('C:/Users/hp/Desktop/PW assesment/instagram_profiles_sample - Instagram.csv')  # Replace with the path to your CSV file\n",
    "usernames = df_input['User Profile'].tolist()"
   ]
  },
  {
   "cell_type": "markdown",
   "id": "4a4a2f75",
   "metadata": {},
   "source": [
    "Regex Patterns:\n",
    "\n",
    "url_pattern: This regex is used to match any URLs in the Instagram bio (both HTTP and HTTPS).\n",
    "\n",
    "email_pattern: This regex matches valid email addresses in the bio."
   ]
  },
  {
   "cell_type": "code",
   "execution_count": null,
   "id": "df5a678c",
   "metadata": {},
   "outputs": [],
   "source": [
    "\n",
    "url_pattern = r'http[s]?://(?:[a-zA-Z]|[0-9]|[$-_@.&+]|[!*\\\\(\\\\),]|(?:%[0-9a-fA-F][0-9a-fA-F]))+'\n",
    "email_pattern = r'[a-zA-Z0-9._%+-]+@[a-zA-Z0-9.-]+\\.[a-zA-Z]{2,}'"
   ]
  },
  {
   "cell_type": "code",
   "execution_count": 7,
   "id": "ce94bcc5",
   "metadata": {},
   "outputs": [],
   "source": [
    "profile_data = []"
   ]
  },
  {
   "cell_type": "markdown",
   "id": "b0480e67",
   "metadata": {},
   "source": [
    "### **Instagram Profile Scraping**\n",
    "\n",
    "This code scrapes Instagram profiles by iterating over a list of usernames:\n",
    "1. **Fetch Profile**: Extracts profile details using Instaloader.\n",
    "2. **Clean Bio**: Removes URLs from the bio and checks for an email address.\n",
    "3. **Store Data**: Saves data (username, bio, followers, email) into a dictionary.\n",
    "4. **Error Handling**: Logs errors for private profiles or failed requests and marks them as \"Error\".\n",
    "5. **Rate Limiting**: Adds a 2-second delay to avoid rate-limiting issues.\n",
    "\n",
    "The data is then appended to a list for further processing.\n"
   ]
  },
  {
   "cell_type": "code",
   "execution_count": null,
   "id": "e2f2c176",
   "metadata": {},
   "outputs": [
    {
     "name": "stdout",
     "output_type": "stream",
     "text": [
      "Successfully scraped data for virat.kohli\n",
      "Successfully scraped data for bhuvan.bam22\n",
      "Successfully scraped data for rashmika_mandanna\n",
      "Successfully scraped data for dqsalmaan\n",
      "Successfully scraped data for deepikapadukone\n",
      "Successfully scraped data for ranveersingh\n",
      "Successfully scraped data for aliaabhatt\n",
      "Successfully scraped data for akshaykumar\n",
      "Successfully scraped data for katrinakaif\n",
      "Successfully scraped data for shraddhakapoor\n",
      "Successfully scraped data for anushkasharma\n",
      "Successfully scraped data for sidmalhotra\n",
      "Successfully scraped data for kartikaaryan\n",
      "Successfully scraped data for priyankachopra\n",
      "Successfully scraped data for jacquelienefernandez\n",
      "Successfully scraped data for sonamkapoor\n",
      "Successfully scraped data for parineetichopra\n",
      "Successfully scraped data for taapsee\n",
      "Successfully scraped data for sushmitasen47\n",
      "Successfully scraped data for thejohnabraham\n",
      "Successfully scraped data for krystledsouza\n",
      "Successfully scraped data for dishapatani\n",
      "Successfully scraped data for athiyashetty\n",
      "Successfully scraped data for duttsanjay\n",
      "Successfully scraped data for radhikkamadan\n",
      "Successfully scraped data for geneliad\n",
      "Successfully scraped data for milindrunning\n",
      "Successfully scraped data for nehakakkar\n",
      "Successfully scraped data for kajalaggarwalofficial\n",
      "Successfully scraped data for amitabhbachchan\n",
      "Successfully scraped data for varundvn\n",
      "Successfully scraped data for madhuridixitnene\n",
      "Successfully scraped data for kareenakapoorkhan\n",
      "Successfully scraped data for mrunalthakur\n",
      "Successfully scraped data for kritisanon\n",
      "Successfully scraped data for kartikaryan\n",
      "Successfully scraped data for sophiechoudry\n",
      "Successfully scraped data for thebetterindia\n",
      "Successfully scraped data for mrunu\n",
      "Successfully scraped data for theshilpashetty\n",
      "Successfully scraped data for bipashabasu\n",
      "Successfully scraped data for tamannaahspeaks\n",
      "Successfully scraped data for nusratchirps\n",
      "Successfully scraped data for justinbieber\n",
      "Successfully scraped data for vickykaushal09\n",
      "Successfully scraped data for haileybieber\n",
      "Successfully scraped data for gigihadid\n",
      "Successfully scraped data for kyliejenner\n",
      "Successfully scraped data for zayn\n"
     ]
    }
   ],
   "source": [
    "for username in usernames:\n",
    "    try:\n",
    "        \n",
    "        profile = instaloader.Profile.from_username(L.context, username)\n",
    "        \n",
    "        bio = profile.biography\n",
    "\n",
    "        clean_bio = re.sub(url_pattern, '', bio)\n",
    "\n",
    "        email = \"no mail found\"\n",
    "    \n",
    "        email_match = re.findall(email_pattern, clean_bio)\n",
    "        if email_match:\n",
    "            email = email_match[0]  # Take the first email found\n",
    "\n",
    "        \n",
    "        data = {\n",
    "            'Username': profile.username,\n",
    "            'Bio': clean_bio,\n",
    "            'Followers': profile.followers,\n",
    "            'Following': profile.followees,\n",
    "            'Post Count': profile.mediacount,\n",
    "            'Email': email,\n",
    "            'Status': 'Success'\n",
    "        }\n",
    "        profile_data.append(data)\n",
    "        print(f\"Successfully scraped data for {username}\")\n",
    "\n",
    "    except instaloader.exceptions.InstaloaderException as e:\n",
    "        \n",
    "        print(f\"Error scraping {username}: {e}\")\n",
    "        logging.error(f\"Error scraping {username}: {e}\")\n",
    "        profile_data.append({'Username': username, 'Bio': 'Error', 'Followers': 'Error', 'Following': 'Error', 'Post Count': 'Error', 'Email': 'Error', 'Status': 'Error'})\n",
    "\n",
    "    except Exception as e:\n",
    "        \n",
    "        print(f\"Unexpected error with {username}: {e}\")\n",
    "        logging.error(f\"Unexpected error with {username}: {e}\")\n",
    "        profile_data.append({'Username': username, 'Bio': 'Error', 'Followers': 'Error', 'Following': 'Error', 'Post Count': 'Error', 'Email': 'Error', 'Status': 'Error'})\n",
    "    \n",
    "    # Add delay to prevent rate-limiting issues\n",
    "    time.sleep(2) "
   ]
  },
  {
   "cell_type": "markdown",
   "id": "9be7db1a",
   "metadata": {},
   "source": [
    "Convert to DataFrame:\n",
    "\n",
    "We convert the profile_data list (which contains all the scraped data) into a pandas DataFrame for easy manipulation and saving."
   ]
  },
  {
   "cell_type": "code",
   "execution_count": 9,
   "id": "89c8eb76",
   "metadata": {},
   "outputs": [],
   "source": [
    "df = pd.DataFrame(profile_data)"
   ]
  },
  {
   "cell_type": "code",
   "execution_count": 12,
   "id": "66bbe802",
   "metadata": {},
   "outputs": [
    {
     "data": {
      "text/html": [
       "<div>\n",
       "<style scoped>\n",
       "    .dataframe tbody tr th:only-of-type {\n",
       "        vertical-align: middle;\n",
       "    }\n",
       "\n",
       "    .dataframe tbody tr th {\n",
       "        vertical-align: top;\n",
       "    }\n",
       "\n",
       "    .dataframe thead th {\n",
       "        text-align: right;\n",
       "    }\n",
       "</style>\n",
       "<table border=\"1\" class=\"dataframe\">\n",
       "  <thead>\n",
       "    <tr style=\"text-align: right;\">\n",
       "      <th></th>\n",
       "      <th>Username</th>\n",
       "      <th>Bio</th>\n",
       "      <th>Followers</th>\n",
       "      <th>Following</th>\n",
       "      <th>Post Count</th>\n",
       "      <th>Email</th>\n",
       "      <th>Status</th>\n",
       "    </tr>\n",
       "  </thead>\n",
       "  <tbody>\n",
       "    <tr>\n",
       "      <th>0</th>\n",
       "      <td>virat.kohli</td>\n",
       "      <td>Carpediem!</td>\n",
       "      <td>271677662</td>\n",
       "      <td>275</td>\n",
       "      <td>1027</td>\n",
       "      <td>no mail found</td>\n",
       "      <td>Success</td>\n",
       "    </tr>\n",
       "    <tr>\n",
       "      <th>1</th>\n",
       "      <td>bhuvan.bam22</td>\n",
       "      <td>New BB Ki Vines Episode⬇️</td>\n",
       "      <td>20564992</td>\n",
       "      <td>278</td>\n",
       "      <td>1702</td>\n",
       "      <td>no mail found</td>\n",
       "      <td>Success</td>\n",
       "    </tr>\n",
       "    <tr>\n",
       "      <th>2</th>\n",
       "      <td>rashmika_mandanna</td>\n",
       "      <td>Kindness before all 🌻🧡✨</td>\n",
       "      <td>46043119</td>\n",
       "      <td>327</td>\n",
       "      <td>763</td>\n",
       "      <td>no mail found</td>\n",
       "      <td>Success</td>\n",
       "    </tr>\n",
       "    <tr>\n",
       "      <th>3</th>\n",
       "      <td>dqsalmaan</td>\n",
       "      <td>Film, Business, Auto Enthusiast</td>\n",
       "      <td>15101211</td>\n",
       "      <td>972</td>\n",
       "      <td>765</td>\n",
       "      <td>no mail found</td>\n",
       "      <td>Success</td>\n",
       "    </tr>\n",
       "    <tr>\n",
       "      <th>4</th>\n",
       "      <td>deepikapadukone</td>\n",
       "      <td>Feed.Burp.Sleep.Repeat.</td>\n",
       "      <td>80285648</td>\n",
       "      <td>214</td>\n",
       "      <td>624</td>\n",
       "      <td>no mail found</td>\n",
       "      <td>Success</td>\n",
       "    </tr>\n",
       "  </tbody>\n",
       "</table>\n",
       "</div>"
      ],
      "text/plain": [
       "            Username                              Bio  Followers  Following  \\\n",
       "0        virat.kohli                       Carpediem!  271677662        275   \n",
       "1       bhuvan.bam22        New BB Ki Vines Episode⬇️   20564992        278   \n",
       "2  rashmika_mandanna          Kindness before all 🌻🧡✨   46043119        327   \n",
       "3          dqsalmaan  Film, Business, Auto Enthusiast   15101211        972   \n",
       "4    deepikapadukone          Feed.Burp.Sleep.Repeat.   80285648        214   \n",
       "\n",
       "   Post Count          Email   Status  \n",
       "0        1027  no mail found  Success  \n",
       "1        1702  no mail found  Success  \n",
       "2         763  no mail found  Success  \n",
       "3         765  no mail found  Success  \n",
       "4         624  no mail found  Success  "
      ]
     },
     "execution_count": 12,
     "metadata": {},
     "output_type": "execute_result"
    }
   ],
   "source": [
    "df.head(5)"
   ]
  },
  {
   "cell_type": "code",
   "execution_count": null,
   "id": "a67a47c1",
   "metadata": {},
   "outputs": [],
   "source": [
    "\n",
    "timestamp = datetime.datetime.now().strftime('%Y-%m-%d_%H-%M-%S')\n",
    "csv_filename = f'instagram_profiles112_{timestamp}.csv'"
   ]
  },
  {
   "cell_type": "code",
   "execution_count": 11,
   "id": "cd149819",
   "metadata": {},
   "outputs": [
    {
     "name": "stdout",
     "output_type": "stream",
     "text": [
      "Data saved to 'instagram_profiles112_2025-05-05_02-47-07.csv'\n"
     ]
    }
   ],
   "source": [
    "df.to_csv(csv_filename, index=False)\n",
    "print(f\"Data saved to '{csv_filename}'\")"
   ]
  },
  {
   "cell_type": "markdown",
   "id": "d552fe98",
   "metadata": {},
   "source": [
    "Save Data to CSV:\n",
    "\n",
    "We save the DataFrame to a CSV file with a timestamp in the filename to prevent overwriting previous files.\n",
    "\n",
    "index=False ensures that row indices are not saved in the CSV file.\n",
    "\n"
   ]
  }
 ],
 "metadata": {
  "kernelspec": {
   "display_name": "one",
   "language": "python",
   "name": "python3"
  },
  "language_info": {
   "codemirror_mode": {
    "name": "ipython",
    "version": 3
   },
   "file_extension": ".py",
   "mimetype": "text/x-python",
   "name": "python",
   "nbconvert_exporter": "python",
   "pygments_lexer": "ipython3",
   "version": "3.11.3"
  }
 },
 "nbformat": 4,
 "nbformat_minor": 5
}
